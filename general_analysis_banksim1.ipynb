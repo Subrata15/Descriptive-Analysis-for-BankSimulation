{
 "cells": [
  {
   "cell_type": "code",
   "execution_count": 1,
   "metadata": {},
   "outputs": [],
   "source": [
    "import numpy as np # linear algebra\n",
    "from matplotlib import pyplot\n",
    "import pandas as pd # data processing, CSV file I/O (e.g. pd.read_csv)\n",
    "import seaborn as sns\n",
    "import warnings\n",
    "warnings.filterwarnings('ignore')"
   ]
  },
  {
   "cell_type": "markdown",
   "metadata": {},
   "source": [
    "## Load Raw Data "
   ]
  },
  {
   "cell_type": "code",
   "execution_count": 2,
   "metadata": {},
   "outputs": [
    {
     "data": {
      "text/html": [
       "<div>\n",
       "<style scoped>\n",
       "    .dataframe tbody tr th:only-of-type {\n",
       "        vertical-align: middle;\n",
       "    }\n",
       "\n",
       "    .dataframe tbody tr th {\n",
       "        vertical-align: top;\n",
       "    }\n",
       "\n",
       "    .dataframe thead th {\n",
       "        text-align: right;\n",
       "    }\n",
       "</style>\n",
       "<table border=\"1\" class=\"dataframe\">\n",
       "  <thead>\n",
       "    <tr style=\"text-align: right;\">\n",
       "      <th></th>\n",
       "      <th>step</th>\n",
       "      <th>customer</th>\n",
       "      <th>age</th>\n",
       "      <th>gender</th>\n",
       "      <th>zipcodeOri</th>\n",
       "      <th>merchant</th>\n",
       "      <th>zipMerchant</th>\n",
       "      <th>category</th>\n",
       "      <th>amount</th>\n",
       "      <th>fraud</th>\n",
       "    </tr>\n",
       "  </thead>\n",
       "  <tbody>\n",
       "    <tr>\n",
       "      <th>0</th>\n",
       "      <td>0</td>\n",
       "      <td>'C1093826151'</td>\n",
       "      <td>'4'</td>\n",
       "      <td>'M'</td>\n",
       "      <td>'28007'</td>\n",
       "      <td>'M348934600'</td>\n",
       "      <td>'28007'</td>\n",
       "      <td>'es_transportation'</td>\n",
       "      <td>4.55</td>\n",
       "      <td>0</td>\n",
       "    </tr>\n",
       "    <tr>\n",
       "      <th>1</th>\n",
       "      <td>0</td>\n",
       "      <td>'C352968107'</td>\n",
       "      <td>'2'</td>\n",
       "      <td>'M'</td>\n",
       "      <td>'28007'</td>\n",
       "      <td>'M348934600'</td>\n",
       "      <td>'28007'</td>\n",
       "      <td>'es_transportation'</td>\n",
       "      <td>39.68</td>\n",
       "      <td>0</td>\n",
       "    </tr>\n",
       "    <tr>\n",
       "      <th>2</th>\n",
       "      <td>0</td>\n",
       "      <td>'C2054744914'</td>\n",
       "      <td>'4'</td>\n",
       "      <td>'F'</td>\n",
       "      <td>'28007'</td>\n",
       "      <td>'M1823072687'</td>\n",
       "      <td>'28007'</td>\n",
       "      <td>'es_transportation'</td>\n",
       "      <td>26.89</td>\n",
       "      <td>0</td>\n",
       "    </tr>\n",
       "    <tr>\n",
       "      <th>3</th>\n",
       "      <td>0</td>\n",
       "      <td>'C1760612790'</td>\n",
       "      <td>'3'</td>\n",
       "      <td>'M'</td>\n",
       "      <td>'28007'</td>\n",
       "      <td>'M348934600'</td>\n",
       "      <td>'28007'</td>\n",
       "      <td>'es_transportation'</td>\n",
       "      <td>17.25</td>\n",
       "      <td>0</td>\n",
       "    </tr>\n",
       "    <tr>\n",
       "      <th>4</th>\n",
       "      <td>0</td>\n",
       "      <td>'C757503768'</td>\n",
       "      <td>'5'</td>\n",
       "      <td>'M'</td>\n",
       "      <td>'28007'</td>\n",
       "      <td>'M348934600'</td>\n",
       "      <td>'28007'</td>\n",
       "      <td>'es_transportation'</td>\n",
       "      <td>35.72</td>\n",
       "      <td>0</td>\n",
       "    </tr>\n",
       "  </tbody>\n",
       "</table>\n",
       "</div>"
      ],
      "text/plain": [
       "   step       customer  age gender zipcodeOri       merchant zipMerchant  \\\n",
       "0     0  'C1093826151'  '4'    'M'    '28007'   'M348934600'     '28007'   \n",
       "1     0   'C352968107'  '2'    'M'    '28007'   'M348934600'     '28007'   \n",
       "2     0  'C2054744914'  '4'    'F'    '28007'  'M1823072687'     '28007'   \n",
       "3     0  'C1760612790'  '3'    'M'    '28007'   'M348934600'     '28007'   \n",
       "4     0   'C757503768'  '5'    'M'    '28007'   'M348934600'     '28007'   \n",
       "\n",
       "              category  amount  fraud  \n",
       "0  'es_transportation'    4.55      0  \n",
       "1  'es_transportation'   39.68      0  \n",
       "2  'es_transportation'   26.89      0  \n",
       "3  'es_transportation'   17.25      0  \n",
       "4  'es_transportation'   35.72      0  "
      ]
     },
     "execution_count": 2,
     "metadata": {},
     "output_type": "execute_result"
    }
   ],
   "source": [
    "df_raw = pd.read_csv(\"bs140513_032310.csv\")\n",
    "df_raw.head()"
   ]
  },
  {
   "cell_type": "code",
   "execution_count": 3,
   "metadata": {},
   "outputs": [
    {
     "data": {
      "text/plain": [
       "False"
      ]
     },
     "execution_count": 3,
     "metadata": {},
     "output_type": "execute_result"
    }
   ],
   "source": [
    "df_raw.isnull().values.any()"
   ]
  },
  {
   "cell_type": "markdown",
   "metadata": {},
   "source": [
    "# Exploratory Data Analysis"
   ]
  },
  {
   "cell_type": "code",
   "execution_count": 4,
   "metadata": {},
   "outputs": [
    {
     "data": {
      "text/html": [
       "<div>\n",
       "<style scoped>\n",
       "    .dataframe tbody tr th:only-of-type {\n",
       "        vertical-align: middle;\n",
       "    }\n",
       "\n",
       "    .dataframe tbody tr th {\n",
       "        vertical-align: top;\n",
       "    }\n",
       "\n",
       "    .dataframe thead th {\n",
       "        text-align: right;\n",
       "    }\n",
       "</style>\n",
       "<table border=\"1\" class=\"dataframe\">\n",
       "  <thead>\n",
       "    <tr style=\"text-align: right;\">\n",
       "      <th></th>\n",
       "      <th>step</th>\n",
       "      <th>customer</th>\n",
       "      <th>age</th>\n",
       "      <th>gender</th>\n",
       "      <th>zipcodeOri</th>\n",
       "      <th>merchant</th>\n",
       "      <th>zipMerchant</th>\n",
       "      <th>category</th>\n",
       "      <th>amount</th>\n",
       "      <th>fraud</th>\n",
       "    </tr>\n",
       "  </thead>\n",
       "  <tbody>\n",
       "    <tr>\n",
       "      <th>count</th>\n",
       "      <td>594643.000000</td>\n",
       "      <td>594643</td>\n",
       "      <td>594643</td>\n",
       "      <td>594643</td>\n",
       "      <td>594643</td>\n",
       "      <td>594643</td>\n",
       "      <td>594643</td>\n",
       "      <td>594643</td>\n",
       "      <td>594643.000000</td>\n",
       "      <td>594643.000000</td>\n",
       "    </tr>\n",
       "    <tr>\n",
       "      <th>unique</th>\n",
       "      <td>NaN</td>\n",
       "      <td>4112</td>\n",
       "      <td>8</td>\n",
       "      <td>4</td>\n",
       "      <td>1</td>\n",
       "      <td>50</td>\n",
       "      <td>1</td>\n",
       "      <td>15</td>\n",
       "      <td>NaN</td>\n",
       "      <td>NaN</td>\n",
       "    </tr>\n",
       "    <tr>\n",
       "      <th>top</th>\n",
       "      <td>NaN</td>\n",
       "      <td>'C1978250683'</td>\n",
       "      <td>'2'</td>\n",
       "      <td>'F'</td>\n",
       "      <td>'28007'</td>\n",
       "      <td>'M1823072687'</td>\n",
       "      <td>'28007'</td>\n",
       "      <td>'es_transportation'</td>\n",
       "      <td>NaN</td>\n",
       "      <td>NaN</td>\n",
       "    </tr>\n",
       "    <tr>\n",
       "      <th>freq</th>\n",
       "      <td>NaN</td>\n",
       "      <td>265</td>\n",
       "      <td>187310</td>\n",
       "      <td>324565</td>\n",
       "      <td>594643</td>\n",
       "      <td>299693</td>\n",
       "      <td>594643</td>\n",
       "      <td>505119</td>\n",
       "      <td>NaN</td>\n",
       "      <td>NaN</td>\n",
       "    </tr>\n",
       "    <tr>\n",
       "      <th>mean</th>\n",
       "      <td>94.986827</td>\n",
       "      <td>NaN</td>\n",
       "      <td>NaN</td>\n",
       "      <td>NaN</td>\n",
       "      <td>NaN</td>\n",
       "      <td>NaN</td>\n",
       "      <td>NaN</td>\n",
       "      <td>NaN</td>\n",
       "      <td>37.890135</td>\n",
       "      <td>0.012108</td>\n",
       "    </tr>\n",
       "    <tr>\n",
       "      <th>std</th>\n",
       "      <td>51.053632</td>\n",
       "      <td>NaN</td>\n",
       "      <td>NaN</td>\n",
       "      <td>NaN</td>\n",
       "      <td>NaN</td>\n",
       "      <td>NaN</td>\n",
       "      <td>NaN</td>\n",
       "      <td>NaN</td>\n",
       "      <td>111.402831</td>\n",
       "      <td>0.109369</td>\n",
       "    </tr>\n",
       "    <tr>\n",
       "      <th>min</th>\n",
       "      <td>0.000000</td>\n",
       "      <td>NaN</td>\n",
       "      <td>NaN</td>\n",
       "      <td>NaN</td>\n",
       "      <td>NaN</td>\n",
       "      <td>NaN</td>\n",
       "      <td>NaN</td>\n",
       "      <td>NaN</td>\n",
       "      <td>0.000000</td>\n",
       "      <td>0.000000</td>\n",
       "    </tr>\n",
       "    <tr>\n",
       "      <th>25%</th>\n",
       "      <td>52.000000</td>\n",
       "      <td>NaN</td>\n",
       "      <td>NaN</td>\n",
       "      <td>NaN</td>\n",
       "      <td>NaN</td>\n",
       "      <td>NaN</td>\n",
       "      <td>NaN</td>\n",
       "      <td>NaN</td>\n",
       "      <td>13.740000</td>\n",
       "      <td>0.000000</td>\n",
       "    </tr>\n",
       "    <tr>\n",
       "      <th>50%</th>\n",
       "      <td>97.000000</td>\n",
       "      <td>NaN</td>\n",
       "      <td>NaN</td>\n",
       "      <td>NaN</td>\n",
       "      <td>NaN</td>\n",
       "      <td>NaN</td>\n",
       "      <td>NaN</td>\n",
       "      <td>NaN</td>\n",
       "      <td>26.900000</td>\n",
       "      <td>0.000000</td>\n",
       "    </tr>\n",
       "    <tr>\n",
       "      <th>75%</th>\n",
       "      <td>139.000000</td>\n",
       "      <td>NaN</td>\n",
       "      <td>NaN</td>\n",
       "      <td>NaN</td>\n",
       "      <td>NaN</td>\n",
       "      <td>NaN</td>\n",
       "      <td>NaN</td>\n",
       "      <td>NaN</td>\n",
       "      <td>42.540000</td>\n",
       "      <td>0.000000</td>\n",
       "    </tr>\n",
       "    <tr>\n",
       "      <th>max</th>\n",
       "      <td>179.000000</td>\n",
       "      <td>NaN</td>\n",
       "      <td>NaN</td>\n",
       "      <td>NaN</td>\n",
       "      <td>NaN</td>\n",
       "      <td>NaN</td>\n",
       "      <td>NaN</td>\n",
       "      <td>NaN</td>\n",
       "      <td>8329.960000</td>\n",
       "      <td>1.000000</td>\n",
       "    </tr>\n",
       "  </tbody>\n",
       "</table>\n",
       "</div>"
      ],
      "text/plain": [
       "                 step       customer     age  gender zipcodeOri  \\\n",
       "count   594643.000000         594643  594643  594643     594643   \n",
       "unique            NaN           4112       8       4          1   \n",
       "top               NaN  'C1978250683'     '2'     'F'    '28007'   \n",
       "freq              NaN            265  187310  324565     594643   \n",
       "mean        94.986827            NaN     NaN     NaN        NaN   \n",
       "std         51.053632            NaN     NaN     NaN        NaN   \n",
       "min          0.000000            NaN     NaN     NaN        NaN   \n",
       "25%         52.000000            NaN     NaN     NaN        NaN   \n",
       "50%         97.000000            NaN     NaN     NaN        NaN   \n",
       "75%        139.000000            NaN     NaN     NaN        NaN   \n",
       "max        179.000000            NaN     NaN     NaN        NaN   \n",
       "\n",
       "             merchant zipMerchant             category         amount  \\\n",
       "count          594643      594643               594643  594643.000000   \n",
       "unique             50           1                   15            NaN   \n",
       "top     'M1823072687'     '28007'  'es_transportation'            NaN   \n",
       "freq           299693      594643               505119            NaN   \n",
       "mean              NaN         NaN                  NaN      37.890135   \n",
       "std               NaN         NaN                  NaN     111.402831   \n",
       "min               NaN         NaN                  NaN       0.000000   \n",
       "25%               NaN         NaN                  NaN      13.740000   \n",
       "50%               NaN         NaN                  NaN      26.900000   \n",
       "75%               NaN         NaN                  NaN      42.540000   \n",
       "max               NaN         NaN                  NaN    8329.960000   \n",
       "\n",
       "                fraud  \n",
       "count   594643.000000  \n",
       "unique            NaN  \n",
       "top               NaN  \n",
       "freq              NaN  \n",
       "mean         0.012108  \n",
       "std          0.109369  \n",
       "min          0.000000  \n",
       "25%          0.000000  \n",
       "50%          0.000000  \n",
       "75%          0.000000  \n",
       "max          1.000000  "
      ]
     },
     "execution_count": 4,
     "metadata": {},
     "output_type": "execute_result"
    }
   ],
   "source": [
    "df_raw.describe(include='all')"
   ]
  },
  {
   "cell_type": "code",
   "execution_count": 5,
   "metadata": {},
   "outputs": [
    {
     "data": {
      "text/html": [
       "<div>\n",
       "<style scoped>\n",
       "    .dataframe tbody tr th:only-of-type {\n",
       "        vertical-align: middle;\n",
       "    }\n",
       "\n",
       "    .dataframe tbody tr th {\n",
       "        vertical-align: top;\n",
       "    }\n",
       "\n",
       "    .dataframe thead th {\n",
       "        text-align: right;\n",
       "    }\n",
       "</style>\n",
       "<table border=\"1\" class=\"dataframe\">\n",
       "  <thead>\n",
       "    <tr style=\"text-align: right;\">\n",
       "      <th></th>\n",
       "      <th>step</th>\n",
       "      <th>customer</th>\n",
       "      <th>age</th>\n",
       "      <th>gender</th>\n",
       "      <th>zipcodeOri</th>\n",
       "      <th>merchant</th>\n",
       "      <th>zipMerchant</th>\n",
       "      <th>category</th>\n",
       "      <th>amount</th>\n",
       "      <th>fraud</th>\n",
       "    </tr>\n",
       "  </thead>\n",
       "  <tbody>\n",
       "    <tr>\n",
       "      <th>23511</th>\n",
       "      <td>9</td>\n",
       "      <td>'C1978250683'</td>\n",
       "      <td>'3'</td>\n",
       "      <td>'F'</td>\n",
       "      <td>'28007'</td>\n",
       "      <td>'M980657600'</td>\n",
       "      <td>'28007'</td>\n",
       "      <td>'es_sportsandtoys'</td>\n",
       "      <td>274.91</td>\n",
       "      <td>1</td>\n",
       "    </tr>\n",
       "    <tr>\n",
       "      <th>24771</th>\n",
       "      <td>9</td>\n",
       "      <td>'C1978250683'</td>\n",
       "      <td>'3'</td>\n",
       "      <td>'F'</td>\n",
       "      <td>'28007'</td>\n",
       "      <td>'M2011752106'</td>\n",
       "      <td>'28007'</td>\n",
       "      <td>'es_hotelservices'</td>\n",
       "      <td>867.29</td>\n",
       "      <td>1</td>\n",
       "    </tr>\n",
       "    <tr>\n",
       "      <th>25217</th>\n",
       "      <td>10</td>\n",
       "      <td>'C1978250683'</td>\n",
       "      <td>'3'</td>\n",
       "      <td>'F'</td>\n",
       "      <td>'28007'</td>\n",
       "      <td>'M1198415165'</td>\n",
       "      <td>'28007'</td>\n",
       "      <td>'es_wellnessandbeauty'</td>\n",
       "      <td>198.42</td>\n",
       "      <td>1</td>\n",
       "    </tr>\n",
       "    <tr>\n",
       "      <th>26779</th>\n",
       "      <td>10</td>\n",
       "      <td>'C1978250683'</td>\n",
       "      <td>'3'</td>\n",
       "      <td>'F'</td>\n",
       "      <td>'28007'</td>\n",
       "      <td>'M980657600'</td>\n",
       "      <td>'28007'</td>\n",
       "      <td>'es_sportsandtoys'</td>\n",
       "      <td>52.94</td>\n",
       "      <td>1</td>\n",
       "    </tr>\n",
       "    <tr>\n",
       "      <th>27976</th>\n",
       "      <td>11</td>\n",
       "      <td>'C1978250683'</td>\n",
       "      <td>'3'</td>\n",
       "      <td>'F'</td>\n",
       "      <td>'28007'</td>\n",
       "      <td>'M840466850'</td>\n",
       "      <td>'28007'</td>\n",
       "      <td>'es_tech'</td>\n",
       "      <td>615.84</td>\n",
       "      <td>1</td>\n",
       "    </tr>\n",
       "  </tbody>\n",
       "</table>\n",
       "</div>"
      ],
      "text/plain": [
       "       step       customer  age gender zipcodeOri       merchant zipMerchant  \\\n",
       "23511     9  'C1978250683'  '3'    'F'    '28007'   'M980657600'     '28007'   \n",
       "24771     9  'C1978250683'  '3'    'F'    '28007'  'M2011752106'     '28007'   \n",
       "25217    10  'C1978250683'  '3'    'F'    '28007'  'M1198415165'     '28007'   \n",
       "26779    10  'C1978250683'  '3'    'F'    '28007'   'M980657600'     '28007'   \n",
       "27976    11  'C1978250683'  '3'    'F'    '28007'   'M840466850'     '28007'   \n",
       "\n",
       "                     category  amount  fraud  \n",
       "23511      'es_sportsandtoys'  274.91      1  \n",
       "24771      'es_hotelservices'  867.29      1  \n",
       "25217  'es_wellnessandbeauty'  198.42      1  \n",
       "26779      'es_sportsandtoys'   52.94      1  \n",
       "27976               'es_tech'  615.84      1  "
      ]
     },
     "execution_count": 5,
     "metadata": {},
     "output_type": "execute_result"
    }
   ],
   "source": [
    "# EDA : 1. Example Customer\n",
    "# a\n",
    "trans_by_cust = df_raw[df_raw['customer'] == \"'C1978250683'\"]\n",
    "fraud_by_cust = df_raw[(df_raw['customer'] == \"'C1978250683'\") & (df_raw['fraud'] == 1)]\n",
    "no_fraud_by_cust = df_raw[(df_raw['customer'] == \"'C1978250683'\") & (df_raw['fraud'] == 0)]\n",
    "trans_by_cust.head()"
   ]
  },
  {
   "cell_type": "code",
   "execution_count": 6,
   "metadata": {},
   "outputs": [
    {
     "name": "stdout",
     "output_type": "stream",
     "text": [
      "Percentage of frauds by customer C1978250683:  41.51\n",
      "Percentage of  no frauds by customer C1978250683:  58.49\n"
     ]
    }
   ],
   "source": [
    "# EDA : 1. Example Customer\n",
    "# b\n",
    "num_fraud_trans, num_safe_trans, total_trans = len(fraud_by_cust), len(no_fraud_by_cust), len(trans_by_cust)\n",
    "percent_frauds = (num_fraud_trans/total_trans * 100)\n",
    "percent_safe = (100 - percent_frauds)\n",
    "print(\"Percentage of frauds by customer C1978250683: \", round(percent_frauds, 2))\n",
    "print(\"Percentage of  no frauds by customer C1978250683: \", round(percent_safe, 2))"
   ]
  },
  {
   "cell_type": "code",
   "execution_count": 7,
   "metadata": {},
   "outputs": [
    {
     "data": {
      "text/plain": [
       "count     265.000000\n",
       "mean      211.188868\n",
       "std       516.846229\n",
       "min         0.030000\n",
       "25%        23.200000\n",
       "50%        46.920000\n",
       "75%       231.330000\n",
       "max      5184.550000\n",
       "Name: amount, dtype: float64"
      ]
     },
     "execution_count": 7,
     "metadata": {},
     "output_type": "execute_result"
    }
   ],
   "source": [
    "# EDA : 1. Example Customer\n",
    "# c : Summary Description\n",
    "trans_by_cust['amount'].describe()"
   ]
  },
  {
   "cell_type": "code",
   "execution_count": 8,
   "metadata": {},
   "outputs": [
    {
     "data": {
      "text/plain": [
       "<matplotlib.axes._subplots.AxesSubplot at 0x7f82ac5dd860>"
      ]
     },
     "execution_count": 8,
     "metadata": {},
     "output_type": "execute_result"
    },
    {
     "data": {
      "image/png": "[encoded data removed]",
      "text/plain": [
       "<Figure size 432x288 with 1 Axes>"
      ]
     },
     "metadata": {
      "needs_background": "light"
     },
     "output_type": "display_data"
    }
   ],
   "source": [
    "# EDA : 1. Example Customer\n",
    "# d : Histogram Vizualization fraud\n",
    "fraud_by_cust['amount'].hist(edgecolor='black', color='c', linewidth=1.5)"
   ]
  },
  {
   "cell_type": "code",
   "execution_count": 9,
   "metadata": {},
   "outputs": [
    {
     "data": {
      "text/plain": [
       "<matplotlib.axes._subplots.AxesSubplot at 0x7f82ac9d96a0>"
      ]
     },
     "execution_count": 9,
     "metadata": {},
     "output_type": "execute_result"
    },
    {
     "data": {
      "image/png": "[encoded data removed]",
      "text/plain": [
       "<Figure size 432x288 with 1 Axes>"
      ]
     },
     "metadata": {
      "needs_background": "light"
     },
     "output_type": "display_data"
    }
   ],
   "source": [
    "# EDA : 1. Example Customer\n",
    "# e : Histogram Vizualization No Fraud\n",
    "no_fraud_by_cust['amount'].hist(edgecolor='black', color='g', linewidth=1.5)"
   ]
  },
  {
   "cell_type": "code",
   "execution_count": 10,
   "metadata": {},
   "outputs": [
    {
     "data": {
      "image/png": "[encoded data removed]",
      "text/plain": [
       "<Figure size 432x288 with 1 Axes>"
      ]
     },
     "metadata": {
      "needs_background": "light"
     },
     "output_type": "display_data"
    }
   ],
   "source": [
    "# EDA : 1. Example Customer\n",
    "# f : Boxplot Vizualization of Fraud\n",
    "ax = sns.boxplot(x=\"fraud\", y=\"amount\", data=trans_by_cust)"
   ]
  },
  {
   "cell_type": "code",
   "execution_count": 11,
   "metadata": {},
   "outputs": [
    {
     "data": {
      "text/plain": [
       "count     594643\n",
       "unique         4\n",
       "top          'F'\n",
       "freq      324565\n",
       "Name: gender, dtype: object"
      ]
     },
     "execution_count": 11,
     "metadata": {},
     "output_type": "execute_result"
    }
   ],
   "source": [
    "# EDA : 2. Gender\n",
    "# a : Summary Description\n",
    "df_raw['gender'].describe()"
   ]
  },
  {
   "cell_type": "code",
   "execution_count": 12,
   "metadata": {},
   "outputs": [
    {
     "data": {
      "image/png": "[encoded data removed]",
      "text/plain": [
       "<Figure size 432x288 with 1 Axes>"
      ]
     },
     "metadata": {
      "needs_background": "light"
     },
     "output_type": "display_data"
    }
   ],
   "source": [
    "# EDA : 2. Gender\n",
    "# b : Boxplot Vizualization of Fraud by Gender\n",
    "ax = sns.boxplot(x=\"gender\", y=\"amount\", hue=\"fraud\", data=df_raw)"
   ]
  },
  {
   "cell_type": "code",
   "execution_count": 13,
   "metadata": {},
   "outputs": [
    {
     "data": {
      "text/plain": [
       "<seaborn.axisgrid.FacetGrid at 0x7f82ac88fef0>"
      ]
     },
     "execution_count": 13,
     "metadata": {},
     "output_type": "execute_result"
    },
    {
     "data": {
      "image/png": "[encoded data removed]",
      "text/plain": [
       "<Figure size 402.375x360 with 1 Axes>"
      ]
     },
     "metadata": {
      "needs_background": "light"
     },
     "output_type": "display_data"
    }
   ],
   "source": [
    "# EDA : 2. Gender\n",
    "# c : Catplot Vizualization of Fraud by Gender\n",
    "sns.catplot(x=\"gender\", y=\"amount\", hue=\"fraud\", data=df_raw)"
   ]
  },
  {
   "cell_type": "markdown",
   "metadata": {},
   "source": [
    "# Descriptive Analysis"
   ]
  },
  {
   "cell_type": "code",
   "execution_count": 14,
   "metadata": {},
   "outputs": [],
   "source": [
    "# DA 1. Extracting # of unique entires per column and their sample values\n",
    "num_unique = []\n",
    "sample_col_values = []\n",
    "for col in df_raw.columns:\n",
    "    num_unique.append(len(df_raw[col].unique()))  # Counting number of unique values per each column\n",
    "    sample_col_values.append(df_raw[col].unique()[:3])  # taking 3 sample values from each column        "
   ]
  },
  {
   "cell_type": "code",
   "execution_count": 15,
   "metadata": {},
   "outputs": [],
   "source": [
    "# DA 2. Joining Character\n",
    "col_combined_entries = []\n",
    "for cvi in sample_col_values:\n",
    "    col_combined_entries.append(\",\".join(str(cvi)))"
   ]
  },
  {
   "cell_type": "code",
   "execution_count": 16,
   "metadata": {},
   "outputs": [],
   "source": [
    "# DA 3. Generating a list 'param_nature' that distinguishes features and targets\n",
    "param_nature = []\n",
    "for col in df_raw.columns:\n",
    "    if col == 'fraud':\n",
    "        param_nature.append('Target')\n",
    "    else:\n",
    "        param_nature.append('Feature')"
   ]
  },
  {
   "cell_type": "code",
   "execution_count": 17,
   "metadata": {},
   "outputs": [
    {
     "data": {
      "text/html": [
       "<div>\n",
       "<style scoped>\n",
       "    .dataframe tbody tr th:only-of-type {\n",
       "        vertical-align: middle;\n",
       "    }\n",
       "\n",
       "    .dataframe tbody tr th {\n",
       "        vertical-align: top;\n",
       "    }\n",
       "\n",
       "    .dataframe thead th {\n",
       "        text-align: right;\n",
       "    }\n",
       "</style>\n",
       "<table border=\"1\" class=\"dataframe\">\n",
       "  <thead>\n",
       "    <tr style=\"text-align: right;\">\n",
       "      <th></th>\n",
       "      <th>Parameter Nature</th>\n",
       "      <th># of Unique Entries</th>\n",
       "      <th>Sample Entries (First three values)</th>\n",
       "    </tr>\n",
       "  </thead>\n",
       "  <tbody>\n",
       "    <tr>\n",
       "      <th>step</th>\n",
       "      <td>Feature</td>\n",
       "      <td>180</td>\n",
       "      <td>[,0, ,1, ,2,]</td>\n",
       "    </tr>\n",
       "    <tr>\n",
       "      <th>customer</th>\n",
       "      <td>Feature</td>\n",
       "      <td>4112</td>\n",
       "      <td>[,\",',C,1,0,9,3,8,2,6,1,5,1,',\", ,\",',C,3,5,2,...</td>\n",
       "    </tr>\n",
       "    <tr>\n",
       "      <th>age</th>\n",
       "      <td>Feature</td>\n",
       "      <td>8</td>\n",
       "      <td>[,\",',4,',\", ,\",',2,',\", ,\",',3,',\",]</td>\n",
       "    </tr>\n",
       "    <tr>\n",
       "      <th>gender</th>\n",
       "      <td>Feature</td>\n",
       "      <td>4</td>\n",
       "      <td>[,\",',M,',\", ,\",',F,',\", ,\",',E,',\",]</td>\n",
       "    </tr>\n",
       "    <tr>\n",
       "      <th>zipcodeOri</th>\n",
       "      <td>Feature</td>\n",
       "      <td>1</td>\n",
       "      <td>[,\",',2,8,0,0,7,',\",]</td>\n",
       "    </tr>\n",
       "    <tr>\n",
       "      <th>merchant</th>\n",
       "      <td>Feature</td>\n",
       "      <td>50</td>\n",
       "      <td>[,\",',M,3,4,8,9,3,4,6,0,0,',\", ,\",',M,1,8,2,3,...</td>\n",
       "    </tr>\n",
       "    <tr>\n",
       "      <th>zipMerchant</th>\n",
       "      <td>Feature</td>\n",
       "      <td>1</td>\n",
       "      <td>[,\",',2,8,0,0,7,',\",]</td>\n",
       "    </tr>\n",
       "    <tr>\n",
       "      <th>category</th>\n",
       "      <td>Feature</td>\n",
       "      <td>15</td>\n",
       "      <td>[,\",',e,s,_,t,r,a,n,s,p,o,r,t,a,t,i,o,n,',\", ,...</td>\n",
       "    </tr>\n",
       "    <tr>\n",
       "      <th>amount</th>\n",
       "      <td>Feature</td>\n",
       "      <td>23767</td>\n",
       "      <td>[, ,4,.,5,5, ,3,9,.,6,8, ,2,6,.,8,9,]</td>\n",
       "    </tr>\n",
       "    <tr>\n",
       "      <th>fraud</th>\n",
       "      <td>Target</td>\n",
       "      <td>2</td>\n",
       "      <td>[,0, ,1,]</td>\n",
       "    </tr>\n",
       "  </tbody>\n",
       "</table>\n",
       "</div>"
      ],
      "text/plain": [
       "            Parameter Nature # of Unique Entries  \\\n",
       "step                 Feature                 180   \n",
       "customer             Feature                4112   \n",
       "age                  Feature                   8   \n",
       "gender               Feature                   4   \n",
       "zipcodeOri           Feature                   1   \n",
       "merchant             Feature                  50   \n",
       "zipMerchant          Feature                   1   \n",
       "category             Feature                  15   \n",
       "amount               Feature               23767   \n",
       "fraud                 Target                   2   \n",
       "\n",
       "                           Sample Entries (First three values)  \n",
       "step                                             [,0, ,1, ,2,]  \n",
       "customer     [,\",',C,1,0,9,3,8,2,6,1,5,1,',\", ,\",',C,3,5,2,...  \n",
       "age                      [,\",',4,',\", ,\",',2,',\", ,\",',3,',\",]  \n",
       "gender                   [,\",',M,',\", ,\",',F,',\", ,\",',E,',\",]  \n",
       "zipcodeOri                               [,\",',2,8,0,0,7,',\",]  \n",
       "merchant     [,\",',M,3,4,8,9,3,4,6,0,0,',\", ,\",',M,1,8,2,3,...  \n",
       "zipMerchant                              [,\",',2,8,0,0,7,',\",]  \n",
       "category     [,\",',e,s,_,t,r,a,n,s,p,o,r,t,a,t,i,o,n,',\", ,...  \n",
       "amount                   [, ,4,.,5,5, ,3,9,.,6,8, ,2,6,.,8,9,]  \n",
       "fraud                                                [,0, ,1,]  "
      ]
     },
     "execution_count": 17,
     "metadata": {},
     "output_type": "execute_result"
    }
   ],
   "source": [
    "# DA 4. Vizualize Summary Whole Description\n",
    "df_feature_overview = pd.DataFrame(np.transpose([param_nature, num_unique, col_combined_entries]), index = df_raw.columns, columns = ['Parameter Nature', '# of Unique Entries', 'Sample Entries (First three values)'])\n",
    "df_feature_overview"
   ]
  },
  {
   "cell_type": "code",
   "execution_count": 18,
   "metadata": {},
   "outputs": [
    {
     "data": {
      "text/plain": [
       "step             int64\n",
       "customer        object\n",
       "age             object\n",
       "gender          object\n",
       "zipcodeOri      object\n",
       "merchant        object\n",
       "zipMerchant     object\n",
       "category        object\n",
       "amount         float64\n",
       "fraud            int64\n",
       "dtype: object"
      ]
     },
     "execution_count": 18,
     "metadata": {},
     "output_type": "execute_result"
    }
   ],
   "source": [
    "# DA 5. Check type of each Column\n",
    "df_raw.dtypes"
   ]
  },
  {
   "cell_type": "markdown",
   "metadata": {},
   "source": [
    "Encoding using simple pythonic function in pandas with Series.cat.codes"
   ]
  },
  {
   "cell_type": "code",
   "execution_count": 19,
   "metadata": {},
   "outputs": [
    {
     "data": {
      "text/plain": [
       "step             int64\n",
       "customer         int16\n",
       "age               int8\n",
       "gender            int8\n",
       "zipcodeOri        int8\n",
       "merchant          int8\n",
       "zipMerchant       int8\n",
       "category          int8\n",
       "amount         float64\n",
       "fraud            int64\n",
       "dtype: object"
      ]
     },
     "execution_count": 19,
     "metadata": {},
     "output_type": "execute_result"
    }
   ],
   "source": [
    "#DA 6. Encoding\n",
    "df = df_raw\n",
    "for col_name in df.columns:\n",
    "    if(df[col_name].dtype == 'object'):\n",
    "        df[col_name]= df[col_name].astype('category')\n",
    "        df[col_name] = df[col_name].cat.codes\n",
    "df.dtypes"
   ]
  },
  {
   "cell_type": "code",
   "execution_count": 20,
   "metadata": {},
   "outputs": [
    {
     "data": {
      "text/html": [
       "<div>\n",
       "<style scoped>\n",
       "    .dataframe tbody tr th:only-of-type {\n",
       "        vertical-align: middle;\n",
       "    }\n",
       "\n",
       "    .dataframe tbody tr th {\n",
       "        vertical-align: top;\n",
       "    }\n",
       "\n",
       "    .dataframe thead th {\n",
       "        text-align: right;\n",
       "    }\n",
       "</style>\n",
       "<table border=\"1\" class=\"dataframe\">\n",
       "  <thead>\n",
       "    <tr style=\"text-align: right;\">\n",
       "      <th></th>\n",
       "      <th>step</th>\n",
       "      <th>customer</th>\n",
       "      <th>age</th>\n",
       "      <th>gender</th>\n",
       "      <th>zipcodeOri</th>\n",
       "      <th>merchant</th>\n",
       "      <th>zipMerchant</th>\n",
       "      <th>category</th>\n",
       "      <th>amount</th>\n",
       "      <th>fraud</th>\n",
       "    </tr>\n",
       "  </thead>\n",
       "  <tbody>\n",
       "    <tr>\n",
       "      <th>count</th>\n",
       "      <td>594643.000000</td>\n",
       "      <td>594643.000000</td>\n",
       "      <td>594643.000000</td>\n",
       "      <td>594643.000000</td>\n",
       "      <td>594643.0</td>\n",
       "      <td>594643.000000</td>\n",
       "      <td>594643.0</td>\n",
       "      <td>594643.000000</td>\n",
       "      <td>594643.000000</td>\n",
       "      <td>594643.000000</td>\n",
       "    </tr>\n",
       "    <tr>\n",
       "      <th>mean</th>\n",
       "      <td>94.986827</td>\n",
       "      <td>2042.317776</td>\n",
       "      <td>3.014151</td>\n",
       "      <td>1.451089</td>\n",
       "      <td>0.0</td>\n",
       "      <td>23.866580</td>\n",
       "      <td>0.0</td>\n",
       "      <td>11.066393</td>\n",
       "      <td>37.890135</td>\n",
       "      <td>0.012108</td>\n",
       "    </tr>\n",
       "    <tr>\n",
       "      <th>std</th>\n",
       "      <td>51.053632</td>\n",
       "      <td>1185.491845</td>\n",
       "      <td>1.335884</td>\n",
       "      <td>0.503291</td>\n",
       "      <td>0.0</td>\n",
       "      <td>8.590215</td>\n",
       "      <td>0.0</td>\n",
       "      <td>2.817118</td>\n",
       "      <td>111.402831</td>\n",
       "      <td>0.109369</td>\n",
       "    </tr>\n",
       "    <tr>\n",
       "      <th>min</th>\n",
       "      <td>0.000000</td>\n",
       "      <td>0.000000</td>\n",
       "      <td>0.000000</td>\n",
       "      <td>0.000000</td>\n",
       "      <td>0.0</td>\n",
       "      <td>0.000000</td>\n",
       "      <td>0.0</td>\n",
       "      <td>0.000000</td>\n",
       "      <td>0.000000</td>\n",
       "      <td>0.000000</td>\n",
       "    </tr>\n",
       "    <tr>\n",
       "      <th>25%</th>\n",
       "      <td>52.000000</td>\n",
       "      <td>1020.000000</td>\n",
       "      <td>2.000000</td>\n",
       "      <td>1.000000</td>\n",
       "      <td>0.0</td>\n",
       "      <td>18.000000</td>\n",
       "      <td>0.0</td>\n",
       "      <td>12.000000</td>\n",
       "      <td>13.740000</td>\n",
       "      <td>0.000000</td>\n",
       "    </tr>\n",
       "    <tr>\n",
       "      <th>50%</th>\n",
       "      <td>97.000000</td>\n",
       "      <td>2030.000000</td>\n",
       "      <td>3.000000</td>\n",
       "      <td>1.000000</td>\n",
       "      <td>0.0</td>\n",
       "      <td>18.000000</td>\n",
       "      <td>0.0</td>\n",
       "      <td>12.000000</td>\n",
       "      <td>26.900000</td>\n",
       "      <td>0.000000</td>\n",
       "    </tr>\n",
       "    <tr>\n",
       "      <th>75%</th>\n",
       "      <td>139.000000</td>\n",
       "      <td>3059.000000</td>\n",
       "      <td>4.000000</td>\n",
       "      <td>2.000000</td>\n",
       "      <td>0.0</td>\n",
       "      <td>30.000000</td>\n",
       "      <td>0.0</td>\n",
       "      <td>12.000000</td>\n",
       "      <td>42.540000</td>\n",
       "      <td>0.000000</td>\n",
       "    </tr>\n",
       "    <tr>\n",
       "      <th>max</th>\n",
       "      <td>179.000000</td>\n",
       "      <td>4111.000000</td>\n",
       "      <td>7.000000</td>\n",
       "      <td>3.000000</td>\n",
       "      <td>0.0</td>\n",
       "      <td>49.000000</td>\n",
       "      <td>0.0</td>\n",
       "      <td>14.000000</td>\n",
       "      <td>8329.960000</td>\n",
       "      <td>1.000000</td>\n",
       "    </tr>\n",
       "  </tbody>\n",
       "</table>\n",
       "</div>"
      ],
      "text/plain": [
       "                step       customer            age         gender  zipcodeOri  \\\n",
       "count  594643.000000  594643.000000  594643.000000  594643.000000    594643.0   \n",
       "mean       94.986827    2042.317776       3.014151       1.451089         0.0   \n",
       "std        51.053632    1185.491845       1.335884       0.503291         0.0   \n",
       "min         0.000000       0.000000       0.000000       0.000000         0.0   \n",
       "25%        52.000000    1020.000000       2.000000       1.000000         0.0   \n",
       "50%        97.000000    2030.000000       3.000000       1.000000         0.0   \n",
       "75%       139.000000    3059.000000       4.000000       2.000000         0.0   \n",
       "max       179.000000    4111.000000       7.000000       3.000000         0.0   \n",
       "\n",
       "            merchant  zipMerchant       category         amount          fraud  \n",
       "count  594643.000000     594643.0  594643.000000  594643.000000  594643.000000  \n",
       "mean       23.866580          0.0      11.066393      37.890135       0.012108  \n",
       "std         8.590215          0.0       2.817118     111.402831       0.109369  \n",
       "min         0.000000          0.0       0.000000       0.000000       0.000000  \n",
       "25%        18.000000          0.0      12.000000      13.740000       0.000000  \n",
       "50%        18.000000          0.0      12.000000      26.900000       0.000000  \n",
       "75%        30.000000          0.0      12.000000      42.540000       0.000000  \n",
       "max        49.000000          0.0      14.000000    8329.960000       1.000000  "
      ]
     },
     "execution_count": 20,
     "metadata": {},
     "output_type": "execute_result"
    }
   ],
   "source": [
    "# DA 7. Summary of Description Dataset\n",
    "df.describe(include='all')"
   ]
  },
  {
   "cell_type": "code",
   "execution_count": 21,
   "metadata": {},
   "outputs": [
    {
     "name": "stdout",
     "output_type": "stream",
     "text": [
      "Total Number of observations:  594643\n",
      "fraud\n",
      "0    587443\n",
      "1      7200\n",
      "dtype: int64\n"
     ]
    }
   ],
   "source": [
    "# DA 8. Num of Target\n",
    "num_obs = len(df)\n",
    "class_counts = df.groupby('fraud').size()\n",
    "print(\"Total Number of observations: \", num_obs)\n",
    "print(class_counts)"
   ]
  },
  {
   "cell_type": "markdown",
   "metadata": {},
   "source": [
    "Try to understand the pattern of dataset using some of vizualization for each variable"
   ]
  },
  {
   "cell_type": "code",
   "execution_count": 22,
   "metadata": {},
   "outputs": [
    {
     "data": {
      "text/plain": [
       "array([[<matplotlib.axes._subplots.AxesSubplot object at 0x7f82aca50be0>,\n",
       "        <matplotlib.axes._subplots.AxesSubplot object at 0x7f82a912d160>,\n",
       "        <matplotlib.axes._subplots.AxesSubplot object at 0x7f82a91547f0>],\n",
       "       [<matplotlib.axes._subplots.AxesSubplot object at 0x7f82ac809e80>,\n",
       "        <matplotlib.axes._subplots.AxesSubplot object at 0x7f82ac825550>,\n",
       "        <matplotlib.axes._subplots.AxesSubplot object at 0x7f82ac83ebe0>],\n",
       "       [<matplotlib.axes._subplots.AxesSubplot object at 0x7f82ac7db2b0>,\n",
       "        <matplotlib.axes._subplots.AxesSubplot object at 0x7f82ac7f2940>,\n",
       "        <matplotlib.axes._subplots.AxesSubplot object at 0x7f82ac78bfd0>],\n",
       "       [<matplotlib.axes._subplots.AxesSubplot object at 0x7f82ac7ab6a0>,\n",
       "        <matplotlib.axes._subplots.AxesSubplot object at 0x7f82ac7c2d30>,\n",
       "        <matplotlib.axes._subplots.AxesSubplot object at 0x7f82ac75f390>]],\n",
       "      dtype=object)"
      ]
     },
     "execution_count": 22,
     "metadata": {},
     "output_type": "execute_result"
    },
    {
     "data": {
      "image/png": "[encoded data removed]",
      "text/plain": [
       "<Figure size 432x288 with 12 Axes>"
      ]
     },
     "metadata": {
      "needs_background": "light"
     },
     "output_type": "display_data"
    }
   ],
   "source": [
    "# DA 9. Vizualize Histogramable\n",
    "df.hist(edgecolor='black')"
   ]
  },
  {
   "cell_type": "code",
   "execution_count": 23,
   "metadata": {},
   "outputs": [
    {
     "data": {
      "text/plain": [
       "<matplotlib.axes._subplots.AxesSubplot at 0x7f82ac96bc88>"
      ]
     },
     "execution_count": 23,
     "metadata": {},
     "output_type": "execute_result"
    },
    {
     "data": {
      "image/png": "[encoded data removed]",
      "text/plain": [
       "<Figure size 432x288 with 1 Axes>"
      ]
     },
     "metadata": {
      "needs_background": "light"
     },
     "output_type": "display_data"
    }
   ],
   "source": [
    "df['age'].hist(bins=8, edgecolor='black', linewidth=1.2)"
   ]
  },
  {
   "cell_type": "code",
   "execution_count": 24,
   "metadata": {},
   "outputs": [
    {
     "data": {
      "text/plain": [
       "<matplotlib.axes._subplots.AxesSubplot at 0x7f82ac611160>"
      ]
     },
     "execution_count": 24,
     "metadata": {},
     "output_type": "execute_result"
    },
    {
     "data": {
      "image/png": "[encoded data removed]",
      "text/plain": [
       "<Figure size 432x288 with 1 Axes>"
      ]
     },
     "metadata": {
      "needs_background": "light"
     },
     "output_type": "display_data"
    }
   ],
   "source": [
    "df['gender'].hist(edgecolor='black', linewidth=1.2)"
   ]
  },
  {
   "cell_type": "code",
   "execution_count": 25,
   "metadata": {},
   "outputs": [
    {
     "data": {
      "text/plain": [
       "\"\\nsns.pairplot(df, hue = 'fraud', diag_kind = 'kde',\\n             plot_kws = {'alpha': 0.6, 's': 80, 'edgecolor': 'k'},\\n             size = 4)\\n\""
      ]
     },
     "execution_count": 25,
     "metadata": {},
     "output_type": "execute_result"
    }
   ],
   "source": [
    "'''\n",
    "sns.pairplot(df, hue = 'fraud', diag_kind = 'kde',\n",
    "             plot_kws = {'alpha': 0.6, 's': 80, 'edgecolor': 'k'},\n",
    "             size = 4)\n",
    "'''"
   ]
  },
  {
   "cell_type": "markdown",
   "metadata": {},
   "source": [
    "Pearson Correlation is given by:  ρ=cov(X,Y)/σx.σy \n",
    "The values are between -1 and +1. A value of -1 means negative correlation and +1 means positive correlation. \n",
    "0 means no correlation. Dividing covariance by product of standard deviations."
   ]
  },
  {
   "cell_type": "code",
   "execution_count": 26,
   "metadata": {},
   "outputs": [
    {
     "name": "stdout",
     "output_type": "stream",
     "text": [
      "                 step  customer       age    gender  zipcodeOri  merchant  \\\n",
      "step         1.000000  0.005082  0.001169 -0.001107         NaN -0.156195   \n",
      "customer     0.005082  1.000000  0.001940 -0.007568         NaN  0.013341   \n",
      "age          0.001169  0.001940  1.000000  0.005020         NaN  0.006973   \n",
      "gender      -0.001107 -0.007568  0.005020  1.000000         NaN -0.007494   \n",
      "zipcodeOri        NaN       NaN       NaN       NaN         NaN       NaN   \n",
      "merchant    -0.156195  0.013341  0.006973 -0.007494         NaN  1.000000   \n",
      "zipMerchant       NaN       NaN       NaN       NaN         NaN       NaN   \n",
      "category    -0.017269  0.000166  0.004816  0.007700         NaN -0.245433   \n",
      "amount      -0.007961  0.005823 -0.003930 -0.012888         NaN  0.065795   \n",
      "fraud       -0.011898  0.005236 -0.004315 -0.025047         NaN  0.104532   \n",
      "\n",
      "             zipMerchant  category    amount     fraud  \n",
      "step                 NaN -0.017269 -0.007961 -0.011898  \n",
      "customer             NaN  0.000166  0.005823  0.005236  \n",
      "age                  NaN  0.004816 -0.003930 -0.004315  \n",
      "gender               NaN  0.007700 -0.012888 -0.025047  \n",
      "zipcodeOri           NaN       NaN       NaN       NaN  \n",
      "merchant             NaN -0.245433  0.065795  0.104532  \n",
      "zipMerchant          NaN       NaN       NaN       NaN  \n",
      "category             NaN  1.000000 -0.098738 -0.114272  \n",
      "amount               NaN -0.098738  1.000000  0.489967  \n",
      "fraud                NaN -0.114272  0.489967  1.000000  \n"
     ]
    }
   ],
   "source": [
    "# DA 10. Coefficien Correlation with pearson method\n",
    "corr = df.corr(method='pearson')\n",
    "print(corr)"
   ]
  },
  {
   "cell_type": "code",
   "execution_count": 27,
   "metadata": {},
   "outputs": [
    {
     "data": {
      "text/html": [
       "<style  type=\"text/css\" >\n",
       "    #T_ee69acc8_b649_11ea_8f30_7c7a912f93b5row0_col0 {\n",
       "            background-color:  #fff7fb;\n",
       "            color:  #000000;\n",
       "        }    #T_ee69acc8_b649_11ea_8f30_7c7a912f93b5row0_col1 {\n",
       "            background-color:  #fff7fb;\n",
       "            color:  #000000;\n",
       "        }    #T_ee69acc8_b649_11ea_8f30_7c7a912f93b5row0_col2 {\n",
       "            background-color:  #fff7fb;\n",
       "            color:  #000000;\n",
       "        }    #T_ee69acc8_b649_11ea_8f30_7c7a912f93b5row0_col3 {\n",
       "            background-color:  #fff7fb;\n",
       "            color:  #000000;\n",
       "        }    #T_ee69acc8_b649_11ea_8f30_7c7a912f93b5row0_col4 {\n",
       "            background-color:  #fff7fb;\n",
       "            color:  #000000;\n",
       "        }    #T_ee69acc8_b649_11ea_8f30_7c7a912f93b5row0_col5 {\n",
       "            background-color:  #fff7fb;\n",
       "            color:  #000000;\n",
       "        }    #T_ee69acc8_b649_11ea_8f30_7c7a912f93b5row0_col6 {\n",
       "            background-color:  #fff7fb;\n",
       "            color:  #000000;\n",
       "        }    #T_ee69acc8_b649_11ea_8f30_7c7a912f93b5row0_col7 {\n",
       "            background-color:  #fff7fb;\n",
       "            color:  #000000;\n",
       "        }    #T_ee69acc8_b649_11ea_8f30_7c7a912f93b5row0_col8 {\n",
       "            background-color:  #fff7fb;\n",
       "            color:  #000000;\n",
       "        }    #T_ee69acc8_b649_11ea_8f30_7c7a912f93b5row0_col9 {\n",
       "            background-color:  #fff7fb;\n",
       "            color:  #000000;\n",
       "        }    #T_ee69acc8_b649_11ea_8f30_7c7a912f93b5row1_col0 {\n",
       "            background-color:  #fff7fb;\n",
       "            color:  #000000;\n",
       "        }    #T_ee69acc8_b649_11ea_8f30_7c7a912f93b5row1_col1 {\n",
       "            background-color:  #fff7fb;\n",
       "            color:  #000000;\n",
       "        }    #T_ee69acc8_b649_11ea_8f30_7c7a912f93b5row1_col2 {\n",
       "            background-color:  #fff7fb;\n",
       "            color:  #000000;\n",
       "        }    #T_ee69acc8_b649_11ea_8f30_7c7a912f93b5row1_col3 {\n",
       "            background-color:  #fff7fb;\n",
       "            color:  #000000;\n",
       "        }    #T_ee69acc8_b649_11ea_8f30_7c7a912f93b5row1_col4 {\n",
       "            background-color:  #fff7fb;\n",
       "            color:  #000000;\n",
       "        }    #T_ee69acc8_b649_11ea_8f30_7c7a912f93b5row1_col5 {\n",
       "            background-color:  #fff7fb;\n",
       "            color:  #000000;\n",
       "        }    #T_ee69acc8_b649_11ea_8f30_7c7a912f93b5row1_col6 {\n",
       "            background-color:  #fff7fb;\n",
       "            color:  #000000;\n",
       "        }    #T_ee69acc8_b649_11ea_8f30_7c7a912f93b5row1_col7 {\n",
       "            background-color:  #fff7fb;\n",
       "            color:  #000000;\n",
       "        }    #T_ee69acc8_b649_11ea_8f30_7c7a912f93b5row1_col8 {\n",
       "            background-color:  #fff7fb;\n",
       "            color:  #000000;\n",
       "        }    #T_ee69acc8_b649_11ea_8f30_7c7a912f93b5row1_col9 {\n",
       "            background-color:  #fff7fb;\n",
       "            color:  #000000;\n",
       "        }    #T_ee69acc8_b649_11ea_8f30_7c7a912f93b5row2_col0 {\n",
       "            background-color:  #fff7fb;\n",
       "            color:  #000000;\n",
       "        }    #T_ee69acc8_b649_11ea_8f30_7c7a912f93b5row2_col1 {\n",
       "            background-color:  #fff7fb;\n",
       "            color:  #000000;\n",
       "        }    #T_ee69acc8_b649_11ea_8f30_7c7a912f93b5row2_col2 {\n",
       "            background-color:  #fff7fb;\n",
       "            color:  #000000;\n",
       "        }    #T_ee69acc8_b649_11ea_8f30_7c7a912f93b5row2_col3 {\n",
       "            background-color:  #fff7fb;\n",
       "            color:  #000000;\n",
       "        }    #T_ee69acc8_b649_11ea_8f30_7c7a912f93b5row2_col4 {\n",
       "            background-color:  #fff7fb;\n",
       "            color:  #000000;\n",
       "        }    #T_ee69acc8_b649_11ea_8f30_7c7a912f93b5row2_col5 {\n",
       "            background-color:  #fff7fb;\n",
       "            color:  #000000;\n",
       "        }    #T_ee69acc8_b649_11ea_8f30_7c7a912f93b5row2_col6 {\n",
       "            background-color:  #fff7fb;\n",
       "            color:  #000000;\n",
       "        }    #T_ee69acc8_b649_11ea_8f30_7c7a912f93b5row2_col7 {\n",
       "            background-color:  #fff7fb;\n",
       "            color:  #000000;\n",
       "        }    #T_ee69acc8_b649_11ea_8f30_7c7a912f93b5row2_col8 {\n",
       "            background-color:  #fff7fb;\n",
       "            color:  #000000;\n",
       "        }    #T_ee69acc8_b649_11ea_8f30_7c7a912f93b5row2_col9 {\n",
       "            background-color:  #fff7fb;\n",
       "            color:  #000000;\n",
       "        }    #T_ee69acc8_b649_11ea_8f30_7c7a912f93b5row3_col0 {\n",
       "            background-color:  #fff7fb;\n",
       "            color:  #000000;\n",
       "        }    #T_ee69acc8_b649_11ea_8f30_7c7a912f93b5row3_col1 {\n",
       "            background-color:  #fff7fb;\n",
       "            color:  #000000;\n",
       "        }    #T_ee69acc8_b649_11ea_8f30_7c7a912f93b5row3_col2 {\n",
       "            background-color:  #fff7fb;\n",
       "            color:  #000000;\n",
       "        }    #T_ee69acc8_b649_11ea_8f30_7c7a912f93b5row3_col3 {\n",
       "            background-color:  #fff7fb;\n",
       "            color:  #000000;\n",
       "        }    #T_ee69acc8_b649_11ea_8f30_7c7a912f93b5row3_col4 {\n",
       "            background-color:  #fff7fb;\n",
       "            color:  #000000;\n",
       "        }    #T_ee69acc8_b649_11ea_8f30_7c7a912f93b5row3_col5 {\n",
       "            background-color:  #fff7fb;\n",
       "            color:  #000000;\n",
       "        }    #T_ee69acc8_b649_11ea_8f30_7c7a912f93b5row3_col6 {\n",
       "            background-color:  #fff7fb;\n",
       "            color:  #000000;\n",
       "        }    #T_ee69acc8_b649_11ea_8f30_7c7a912f93b5row3_col7 {\n",
       "            background-color:  #fff7fb;\n",
       "            color:  #000000;\n",
       "        }    #T_ee69acc8_b649_11ea_8f30_7c7a912f93b5row3_col8 {\n",
       "            background-color:  #fff7fb;\n",
       "            color:  #000000;\n",
       "        }    #T_ee69acc8_b649_11ea_8f30_7c7a912f93b5row3_col9 {\n",
       "            background-color:  #fff7fb;\n",
       "            color:  #000000;\n",
       "        }    #T_ee69acc8_b649_11ea_8f30_7c7a912f93b5row4_col0 {\n",
       "            background-color:  #fff7fb;\n",
       "            color:  #000000;\n",
       "        }    #T_ee69acc8_b649_11ea_8f30_7c7a912f93b5row4_col1 {\n",
       "            background-color:  #fff7fb;\n",
       "            color:  #000000;\n",
       "        }    #T_ee69acc8_b649_11ea_8f30_7c7a912f93b5row4_col2 {\n",
       "            background-color:  #fff7fb;\n",
       "            color:  #000000;\n",
       "        }    #T_ee69acc8_b649_11ea_8f30_7c7a912f93b5row4_col3 {\n",
       "            background-color:  #fff7fb;\n",
       "            color:  #000000;\n",
       "        }    #T_ee69acc8_b649_11ea_8f30_7c7a912f93b5row4_col4 {\n",
       "            background-color:  #fff7fb;\n",
       "            color:  #000000;\n",
       "        }    #T_ee69acc8_b649_11ea_8f30_7c7a912f93b5row4_col5 {\n",
       "            background-color:  #fff7fb;\n",
       "            color:  #000000;\n",
       "        }    #T_ee69acc8_b649_11ea_8f30_7c7a912f93b5row4_col6 {\n",
       "            background-color:  #fff7fb;\n",
       "            color:  #000000;\n",
       "        }    #T_ee69acc8_b649_11ea_8f30_7c7a912f93b5row4_col7 {\n",
       "            background-color:  #fff7fb;\n",
       "            color:  #000000;\n",
       "        }    #T_ee69acc8_b649_11ea_8f30_7c7a912f93b5row4_col8 {\n",
       "            background-color:  #fff7fb;\n",
       "            color:  #000000;\n",
       "        }    #T_ee69acc8_b649_11ea_8f30_7c7a912f93b5row4_col9 {\n",
       "            background-color:  #fff7fb;\n",
       "            color:  #000000;\n",
       "        }    #T_ee69acc8_b649_11ea_8f30_7c7a912f93b5row5_col0 {\n",
       "            background-color:  #fff7fb;\n",
       "            color:  #000000;\n",
       "        }    #T_ee69acc8_b649_11ea_8f30_7c7a912f93b5row5_col1 {\n",
       "            background-color:  #fff7fb;\n",
       "            color:  #000000;\n",
       "        }    #T_ee69acc8_b649_11ea_8f30_7c7a912f93b5row5_col2 {\n",
       "            background-color:  #fff7fb;\n",
       "            color:  #000000;\n",
       "        }    #T_ee69acc8_b649_11ea_8f30_7c7a912f93b5row5_col3 {\n",
       "            background-color:  #fff7fb;\n",
       "            color:  #000000;\n",
       "        }    #T_ee69acc8_b649_11ea_8f30_7c7a912f93b5row5_col4 {\n",
       "            background-color:  #fff7fb;\n",
       "            color:  #000000;\n",
       "        }    #T_ee69acc8_b649_11ea_8f30_7c7a912f93b5row5_col5 {\n",
       "            background-color:  #fff7fb;\n",
       "            color:  #000000;\n",
       "        }    #T_ee69acc8_b649_11ea_8f30_7c7a912f93b5row5_col6 {\n",
       "            background-color:  #fff7fb;\n",
       "            color:  #000000;\n",
       "        }    #T_ee69acc8_b649_11ea_8f30_7c7a912f93b5row5_col7 {\n",
       "            background-color:  #fff7fb;\n",
       "            color:  #000000;\n",
       "        }    #T_ee69acc8_b649_11ea_8f30_7c7a912f93b5row5_col8 {\n",
       "            background-color:  #fff7fb;\n",
       "            color:  #000000;\n",
       "        }    #T_ee69acc8_b649_11ea_8f30_7c7a912f93b5row5_col9 {\n",
       "            background-color:  #fff7fb;\n",
       "            color:  #000000;\n",
       "        }    #T_ee69acc8_b649_11ea_8f30_7c7a912f93b5row6_col0 {\n",
       "            background-color:  #fff7fb;\n",
       "            color:  #000000;\n",
       "        }    #T_ee69acc8_b649_11ea_8f30_7c7a912f93b5row6_col1 {\n",
       "            background-color:  #fff7fb;\n",
       "            color:  #000000;\n",
       "        }    #T_ee69acc8_b649_11ea_8f30_7c7a912f93b5row6_col2 {\n",
       "            background-color:  #fff7fb;\n",
       "            color:  #000000;\n",
       "        }    #T_ee69acc8_b649_11ea_8f30_7c7a912f93b5row6_col3 {\n",
       "            background-color:  #fff7fb;\n",
       "            color:  #000000;\n",
       "        }    #T_ee69acc8_b649_11ea_8f30_7c7a912f93b5row6_col4 {\n",
       "            background-color:  #fff7fb;\n",
       "            color:  #000000;\n",
       "        }    #T_ee69acc8_b649_11ea_8f30_7c7a912f93b5row6_col5 {\n",
       "            background-color:  #fff7fb;\n",
       "            color:  #000000;\n",
       "        }    #T_ee69acc8_b649_11ea_8f30_7c7a912f93b5row6_col6 {\n",
       "            background-color:  #fff7fb;\n",
       "            color:  #000000;\n",
       "        }    #T_ee69acc8_b649_11ea_8f30_7c7a912f93b5row6_col7 {\n",
       "            background-color:  #fff7fb;\n",
       "            color:  #000000;\n",
       "        }    #T_ee69acc8_b649_11ea_8f30_7c7a912f93b5row6_col8 {\n",
       "            background-color:  #fff7fb;\n",
       "            color:  #000000;\n",
       "        }    #T_ee69acc8_b649_11ea_8f30_7c7a912f93b5row6_col9 {\n",
       "            background-color:  #fff7fb;\n",
       "            color:  #000000;\n",
       "        }    #T_ee69acc8_b649_11ea_8f30_7c7a912f93b5row7_col0 {\n",
       "            background-color:  #fff7fb;\n",
       "            color:  #000000;\n",
       "        }    #T_ee69acc8_b649_11ea_8f30_7c7a912f93b5row7_col1 {\n",
       "            background-color:  #fff7fb;\n",
       "            color:  #000000;\n",
       "        }    #T_ee69acc8_b649_11ea_8f30_7c7a912f93b5row7_col2 {\n",
       "            background-color:  #fff7fb;\n",
       "            color:  #000000;\n",
       "        }    #T_ee69acc8_b649_11ea_8f30_7c7a912f93b5row7_col3 {\n",
       "            background-color:  #fff7fb;\n",
       "            color:  #000000;\n",
       "        }    #T_ee69acc8_b649_11ea_8f30_7c7a912f93b5row7_col4 {\n",
       "            background-color:  #fff7fb;\n",
       "            color:  #000000;\n",
       "        }    #T_ee69acc8_b649_11ea_8f30_7c7a912f93b5row7_col5 {\n",
       "            background-color:  #fff7fb;\n",
       "            color:  #000000;\n",
       "        }    #T_ee69acc8_b649_11ea_8f30_7c7a912f93b5row7_col6 {\n",
       "            background-color:  #fff7fb;\n",
       "            color:  #000000;\n",
       "        }    #T_ee69acc8_b649_11ea_8f30_7c7a912f93b5row7_col7 {\n",
       "            background-color:  #fff7fb;\n",
       "            color:  #000000;\n",
       "        }    #T_ee69acc8_b649_11ea_8f30_7c7a912f93b5row7_col8 {\n",
       "            background-color:  #fff7fb;\n",
       "            color:  #000000;\n",
       "        }    #T_ee69acc8_b649_11ea_8f30_7c7a912f93b5row7_col9 {\n",
       "            background-color:  #fff7fb;\n",
       "            color:  #000000;\n",
       "        }    #T_ee69acc8_b649_11ea_8f30_7c7a912f93b5row8_col0 {\n",
       "            background-color:  #fff7fb;\n",
       "            color:  #000000;\n",
       "        }    #T_ee69acc8_b649_11ea_8f30_7c7a912f93b5row8_col1 {\n",
       "            background-color:  #fff7fb;\n",
       "            color:  #000000;\n",
       "        }    #T_ee69acc8_b649_11ea_8f30_7c7a912f93b5row8_col2 {\n",
       "            background-color:  #fff7fb;\n",
       "            color:  #000000;\n",
       "        }    #T_ee69acc8_b649_11ea_8f30_7c7a912f93b5row8_col3 {\n",
       "            background-color:  #fff7fb;\n",
       "            color:  #000000;\n",
       "        }    #T_ee69acc8_b649_11ea_8f30_7c7a912f93b5row8_col4 {\n",
       "            background-color:  #fff7fb;\n",
       "            color:  #000000;\n",
       "        }    #T_ee69acc8_b649_11ea_8f30_7c7a912f93b5row8_col5 {\n",
       "            background-color:  #fff7fb;\n",
       "            color:  #000000;\n",
       "        }    #T_ee69acc8_b649_11ea_8f30_7c7a912f93b5row8_col6 {\n",
       "            background-color:  #fff7fb;\n",
       "            color:  #000000;\n",
       "        }    #T_ee69acc8_b649_11ea_8f30_7c7a912f93b5row8_col7 {\n",
       "            background-color:  #fff7fb;\n",
       "            color:  #000000;\n",
       "        }    #T_ee69acc8_b649_11ea_8f30_7c7a912f93b5row8_col8 {\n",
       "            background-color:  #fff7fb;\n",
       "            color:  #000000;\n",
       "        }    #T_ee69acc8_b649_11ea_8f30_7c7a912f93b5row8_col9 {\n",
       "            background-color:  #fff7fb;\n",
       "            color:  #000000;\n",
       "        }    #T_ee69acc8_b649_11ea_8f30_7c7a912f93b5row9_col0 {\n",
       "            background-color:  #fff7fb;\n",
       "            color:  #000000;\n",
       "        }    #T_ee69acc8_b649_11ea_8f30_7c7a912f93b5row9_col1 {\n",
       "            background-color:  #fff7fb;\n",
       "            color:  #000000;\n",
       "        }    #T_ee69acc8_b649_11ea_8f30_7c7a912f93b5row9_col2 {\n",
       "            background-color:  #fff7fb;\n",
       "            color:  #000000;\n",
       "        }    #T_ee69acc8_b649_11ea_8f30_7c7a912f93b5row9_col3 {\n",
       "            background-color:  #fff7fb;\n",
       "            color:  #000000;\n",
       "        }    #T_ee69acc8_b649_11ea_8f30_7c7a912f93b5row9_col4 {\n",
       "            background-color:  #fff7fb;\n",
       "            color:  #000000;\n",
       "        }    #T_ee69acc8_b649_11ea_8f30_7c7a912f93b5row9_col5 {\n",
       "            background-color:  #fff7fb;\n",
       "            color:  #000000;\n",
       "        }    #T_ee69acc8_b649_11ea_8f30_7c7a912f93b5row9_col6 {\n",
       "            background-color:  #fff7fb;\n",
       "            color:  #000000;\n",
       "        }    #T_ee69acc8_b649_11ea_8f30_7c7a912f93b5row9_col7 {\n",
       "            background-color:  #fff7fb;\n",
       "            color:  #000000;\n",
       "        }    #T_ee69acc8_b649_11ea_8f30_7c7a912f93b5row9_col8 {\n",
       "            background-color:  #fff7fb;\n",
       "            color:  #000000;\n",
       "        }    #T_ee69acc8_b649_11ea_8f30_7c7a912f93b5row9_col9 {\n",
       "            background-color:  #fff7fb;\n",
       "            color:  #000000;\n",
       "        }</style><table id=\"T_ee69acc8_b649_11ea_8f30_7c7a912f93b5\" ><thead>    <tr>        <th class=\"blank level0\" ></th>        <th class=\"col_heading level0 col0\" >step</th>        <th class=\"col_heading level0 col1\" >customer</th>        <th class=\"col_heading level0 col2\" >age</th>        <th class=\"col_heading level0 col3\" >gender</th>        <th class=\"col_heading level0 col4\" >zipcodeOri</th>        <th class=\"col_heading level0 col5\" >merchant</th>        <th class=\"col_heading level0 col6\" >zipMerchant</th>        <th class=\"col_heading level0 col7\" >category</th>        <th class=\"col_heading level0 col8\" >amount</th>        <th class=\"col_heading level0 col9\" >fraud</th>    </tr></thead><tbody>\n",
       "                <tr>\n",
       "                        <th id=\"T_ee69acc8_b649_11ea_8f30_7c7a912f93b5level0_row0\" class=\"row_heading level0 row0\" >step</th>\n",
       "                        <td id=\"T_ee69acc8_b649_11ea_8f30_7c7a912f93b5row0_col0\" class=\"data row0 col0\" >1</td>\n",
       "                        <td id=\"T_ee69acc8_b649_11ea_8f30_7c7a912f93b5row0_col1\" class=\"data row0 col1\" >0.0051</td>\n",
       "                        <td id=\"T_ee69acc8_b649_11ea_8f30_7c7a912f93b5row0_col2\" class=\"data row0 col2\" >0.0012</td>\n",
       "                        <td id=\"T_ee69acc8_b649_11ea_8f30_7c7a912f93b5row0_col3\" class=\"data row0 col3\" >-0.0011</td>\n",
       "                        <td id=\"T_ee69acc8_b649_11ea_8f30_7c7a912f93b5row0_col4\" class=\"data row0 col4\" >nan</td>\n",
       "                        <td id=\"T_ee69acc8_b649_11ea_8f30_7c7a912f93b5row0_col5\" class=\"data row0 col5\" >-0.16</td>\n",
       "                        <td id=\"T_ee69acc8_b649_11ea_8f30_7c7a912f93b5row0_col6\" class=\"data row0 col6\" >nan</td>\n",
       "                        <td id=\"T_ee69acc8_b649_11ea_8f30_7c7a912f93b5row0_col7\" class=\"data row0 col7\" >-0.017</td>\n",
       "                        <td id=\"T_ee69acc8_b649_11ea_8f30_7c7a912f93b5row0_col8\" class=\"data row0 col8\" >-0.008</td>\n",
       "                        <td id=\"T_ee69acc8_b649_11ea_8f30_7c7a912f93b5row0_col9\" class=\"data row0 col9\" >-0.012</td>\n",
       "            </tr>\n",
       "            <tr>\n",
       "                        <th id=\"T_ee69acc8_b649_11ea_8f30_7c7a912f93b5level0_row1\" class=\"row_heading level0 row1\" >customer</th>\n",
       "                        <td id=\"T_ee69acc8_b649_11ea_8f30_7c7a912f93b5row1_col0\" class=\"data row1 col0\" >0.0051</td>\n",
       "                        <td id=\"T_ee69acc8_b649_11ea_8f30_7c7a912f93b5row1_col1\" class=\"data row1 col1\" >1</td>\n",
       "                        <td id=\"T_ee69acc8_b649_11ea_8f30_7c7a912f93b5row1_col2\" class=\"data row1 col2\" >0.0019</td>\n",
       "                        <td id=\"T_ee69acc8_b649_11ea_8f30_7c7a912f93b5row1_col3\" class=\"data row1 col3\" >-0.0076</td>\n",
       "                        <td id=\"T_ee69acc8_b649_11ea_8f30_7c7a912f93b5row1_col4\" class=\"data row1 col4\" >nan</td>\n",
       "                        <td id=\"T_ee69acc8_b649_11ea_8f30_7c7a912f93b5row1_col5\" class=\"data row1 col5\" >0.013</td>\n",
       "                        <td id=\"T_ee69acc8_b649_11ea_8f30_7c7a912f93b5row1_col6\" class=\"data row1 col6\" >nan</td>\n",
       "                        <td id=\"T_ee69acc8_b649_11ea_8f30_7c7a912f93b5row1_col7\" class=\"data row1 col7\" >0.00017</td>\n",
       "                        <td id=\"T_ee69acc8_b649_11ea_8f30_7c7a912f93b5row1_col8\" class=\"data row1 col8\" >0.0058</td>\n",
       "                        <td id=\"T_ee69acc8_b649_11ea_8f30_7c7a912f93b5row1_col9\" class=\"data row1 col9\" >0.0052</td>\n",
       "            </tr>\n",
       "            <tr>\n",
       "                        <th id=\"T_ee69acc8_b649_11ea_8f30_7c7a912f93b5level0_row2\" class=\"row_heading level0 row2\" >age</th>\n",
       "                        <td id=\"T_ee69acc8_b649_11ea_8f30_7c7a912f93b5row2_col0\" class=\"data row2 col0\" >0.0012</td>\n",
       "                        <td id=\"T_ee69acc8_b649_11ea_8f30_7c7a912f93b5row2_col1\" class=\"data row2 col1\" >0.0019</td>\n",
       "                        <td id=\"T_ee69acc8_b649_11ea_8f30_7c7a912f93b5row2_col2\" class=\"data row2 col2\" >1</td>\n",
       "                        <td id=\"T_ee69acc8_b649_11ea_8f30_7c7a912f93b5row2_col3\" class=\"data row2 col3\" >0.005</td>\n",
       "                        <td id=\"T_ee69acc8_b649_11ea_8f30_7c7a912f93b5row2_col4\" class=\"data row2 col4\" >nan</td>\n",
       "                        <td id=\"T_ee69acc8_b649_11ea_8f30_7c7a912f93b5row2_col5\" class=\"data row2 col5\" >0.007</td>\n",
       "                        <td id=\"T_ee69acc8_b649_11ea_8f30_7c7a912f93b5row2_col6\" class=\"data row2 col6\" >nan</td>\n",
       "                        <td id=\"T_ee69acc8_b649_11ea_8f30_7c7a912f93b5row2_col7\" class=\"data row2 col7\" >0.0048</td>\n",
       "                        <td id=\"T_ee69acc8_b649_11ea_8f30_7c7a912f93b5row2_col8\" class=\"data row2 col8\" >-0.0039</td>\n",
       "                        <td id=\"T_ee69acc8_b649_11ea_8f30_7c7a912f93b5row2_col9\" class=\"data row2 col9\" >-0.0043</td>\n",
       "            </tr>\n",
       "            <tr>\n",
       "                        <th id=\"T_ee69acc8_b649_11ea_8f30_7c7a912f93b5level0_row3\" class=\"row_heading level0 row3\" >gender</th>\n",
       "                        <td id=\"T_ee69acc8_b649_11ea_8f30_7c7a912f93b5row3_col0\" class=\"data row3 col0\" >-0.0011</td>\n",
       "                        <td id=\"T_ee69acc8_b649_11ea_8f30_7c7a912f93b5row3_col1\" class=\"data row3 col1\" >-0.0076</td>\n",
       "                        <td id=\"T_ee69acc8_b649_11ea_8f30_7c7a912f93b5row3_col2\" class=\"data row3 col2\" >0.005</td>\n",
       "                        <td id=\"T_ee69acc8_b649_11ea_8f30_7c7a912f93b5row3_col3\" class=\"data row3 col3\" >1</td>\n",
       "                        <td id=\"T_ee69acc8_b649_11ea_8f30_7c7a912f93b5row3_col4\" class=\"data row3 col4\" >nan</td>\n",
       "                        <td id=\"T_ee69acc8_b649_11ea_8f30_7c7a912f93b5row3_col5\" class=\"data row3 col5\" >-0.0075</td>\n",
       "                        <td id=\"T_ee69acc8_b649_11ea_8f30_7c7a912f93b5row3_col6\" class=\"data row3 col6\" >nan</td>\n",
       "                        <td id=\"T_ee69acc8_b649_11ea_8f30_7c7a912f93b5row3_col7\" class=\"data row3 col7\" >0.0077</td>\n",
       "                        <td id=\"T_ee69acc8_b649_11ea_8f30_7c7a912f93b5row3_col8\" class=\"data row3 col8\" >-0.013</td>\n",
       "                        <td id=\"T_ee69acc8_b649_11ea_8f30_7c7a912f93b5row3_col9\" class=\"data row3 col9\" >-0.025</td>\n",
       "            </tr>\n",
       "            <tr>\n",
       "                        <th id=\"T_ee69acc8_b649_11ea_8f30_7c7a912f93b5level0_row4\" class=\"row_heading level0 row4\" >zipcodeOri</th>\n",
       "                        <td id=\"T_ee69acc8_b649_11ea_8f30_7c7a912f93b5row4_col0\" class=\"data row4 col0\" >nan</td>\n",
       "                        <td id=\"T_ee69acc8_b649_11ea_8f30_7c7a912f93b5row4_col1\" class=\"data row4 col1\" >nan</td>\n",
       "                        <td id=\"T_ee69acc8_b649_11ea_8f30_7c7a912f93b5row4_col2\" class=\"data row4 col2\" >nan</td>\n",
       "                        <td id=\"T_ee69acc8_b649_11ea_8f30_7c7a912f93b5row4_col3\" class=\"data row4 col3\" >nan</td>\n",
       "                        <td id=\"T_ee69acc8_b649_11ea_8f30_7c7a912f93b5row4_col4\" class=\"data row4 col4\" >nan</td>\n",
       "                        <td id=\"T_ee69acc8_b649_11ea_8f30_7c7a912f93b5row4_col5\" class=\"data row4 col5\" >nan</td>\n",
       "                        <td id=\"T_ee69acc8_b649_11ea_8f30_7c7a912f93b5row4_col6\" class=\"data row4 col6\" >nan</td>\n",
       "                        <td id=\"T_ee69acc8_b649_11ea_8f30_7c7a912f93b5row4_col7\" class=\"data row4 col7\" >nan</td>\n",
       "                        <td id=\"T_ee69acc8_b649_11ea_8f30_7c7a912f93b5row4_col8\" class=\"data row4 col8\" >nan</td>\n",
       "                        <td id=\"T_ee69acc8_b649_11ea_8f30_7c7a912f93b5row4_col9\" class=\"data row4 col9\" >nan</td>\n",
       "            </tr>\n",
       "            <tr>\n",
       "                        <th id=\"T_ee69acc8_b649_11ea_8f30_7c7a912f93b5level0_row5\" class=\"row_heading level0 row5\" >merchant</th>\n",
       "                        <td id=\"T_ee69acc8_b649_11ea_8f30_7c7a912f93b5row5_col0\" class=\"data row5 col0\" >-0.16</td>\n",
       "                        <td id=\"T_ee69acc8_b649_11ea_8f30_7c7a912f93b5row5_col1\" class=\"data row5 col1\" >0.013</td>\n",
       "                        <td id=\"T_ee69acc8_b649_11ea_8f30_7c7a912f93b5row5_col2\" class=\"data row5 col2\" >0.007</td>\n",
       "                        <td id=\"T_ee69acc8_b649_11ea_8f30_7c7a912f93b5row5_col3\" class=\"data row5 col3\" >-0.0075</td>\n",
       "                        <td id=\"T_ee69acc8_b649_11ea_8f30_7c7a912f93b5row5_col4\" class=\"data row5 col4\" >nan</td>\n",
       "                        <td id=\"T_ee69acc8_b649_11ea_8f30_7c7a912f93b5row5_col5\" class=\"data row5 col5\" >1</td>\n",
       "                        <td id=\"T_ee69acc8_b649_11ea_8f30_7c7a912f93b5row5_col6\" class=\"data row5 col6\" >nan</td>\n",
       "                        <td id=\"T_ee69acc8_b649_11ea_8f30_7c7a912f93b5row5_col7\" class=\"data row5 col7\" >-0.25</td>\n",
       "                        <td id=\"T_ee69acc8_b649_11ea_8f30_7c7a912f93b5row5_col8\" class=\"data row5 col8\" >0.066</td>\n",
       "                        <td id=\"T_ee69acc8_b649_11ea_8f30_7c7a912f93b5row5_col9\" class=\"data row5 col9\" >0.1</td>\n",
       "            </tr>\n",
       "            <tr>\n",
       "                        <th id=\"T_ee69acc8_b649_11ea_8f30_7c7a912f93b5level0_row6\" class=\"row_heading level0 row6\" >zipMerchant</th>\n",
       "                        <td id=\"T_ee69acc8_b649_11ea_8f30_7c7a912f93b5row6_col0\" class=\"data row6 col0\" >nan</td>\n",
       "                        <td id=\"T_ee69acc8_b649_11ea_8f30_7c7a912f93b5row6_col1\" class=\"data row6 col1\" >nan</td>\n",
       "                        <td id=\"T_ee69acc8_b649_11ea_8f30_7c7a912f93b5row6_col2\" class=\"data row6 col2\" >nan</td>\n",
       "                        <td id=\"T_ee69acc8_b649_11ea_8f30_7c7a912f93b5row6_col3\" class=\"data row6 col3\" >nan</td>\n",
       "                        <td id=\"T_ee69acc8_b649_11ea_8f30_7c7a912f93b5row6_col4\" class=\"data row6 col4\" >nan</td>\n",
       "                        <td id=\"T_ee69acc8_b649_11ea_8f30_7c7a912f93b5row6_col5\" class=\"data row6 col5\" >nan</td>\n",
       "                        <td id=\"T_ee69acc8_b649_11ea_8f30_7c7a912f93b5row6_col6\" class=\"data row6 col6\" >nan</td>\n",
       "                        <td id=\"T_ee69acc8_b649_11ea_8f30_7c7a912f93b5row6_col7\" class=\"data row6 col7\" >nan</td>\n",
       "                        <td id=\"T_ee69acc8_b649_11ea_8f30_7c7a912f93b5row6_col8\" class=\"data row6 col8\" >nan</td>\n",
       "                        <td id=\"T_ee69acc8_b649_11ea_8f30_7c7a912f93b5row6_col9\" class=\"data row6 col9\" >nan</td>\n",
       "            </tr>\n",
       "            <tr>\n",
       "                        <th id=\"T_ee69acc8_b649_11ea_8f30_7c7a912f93b5level0_row7\" class=\"row_heading level0 row7\" >category</th>\n",
       "                        <td id=\"T_ee69acc8_b649_11ea_8f30_7c7a912f93b5row7_col0\" class=\"data row7 col0\" >-0.017</td>\n",
       "                        <td id=\"T_ee69acc8_b649_11ea_8f30_7c7a912f93b5row7_col1\" class=\"data row7 col1\" >0.00017</td>\n",
       "                        <td id=\"T_ee69acc8_b649_11ea_8f30_7c7a912f93b5row7_col2\" class=\"data row7 col2\" >0.0048</td>\n",
       "                        <td id=\"T_ee69acc8_b649_11ea_8f30_7c7a912f93b5row7_col3\" class=\"data row7 col3\" >0.0077</td>\n",
       "                        <td id=\"T_ee69acc8_b649_11ea_8f30_7c7a912f93b5row7_col4\" class=\"data row7 col4\" >nan</td>\n",
       "                        <td id=\"T_ee69acc8_b649_11ea_8f30_7c7a912f93b5row7_col5\" class=\"data row7 col5\" >-0.25</td>\n",
       "                        <td id=\"T_ee69acc8_b649_11ea_8f30_7c7a912f93b5row7_col6\" class=\"data row7 col6\" >nan</td>\n",
       "                        <td id=\"T_ee69acc8_b649_11ea_8f30_7c7a912f93b5row7_col7\" class=\"data row7 col7\" >1</td>\n",
       "                        <td id=\"T_ee69acc8_b649_11ea_8f30_7c7a912f93b5row7_col8\" class=\"data row7 col8\" >-0.099</td>\n",
       "                        <td id=\"T_ee69acc8_b649_11ea_8f30_7c7a912f93b5row7_col9\" class=\"data row7 col9\" >-0.11</td>\n",
       "            </tr>\n",
       "            <tr>\n",
       "                        <th id=\"T_ee69acc8_b649_11ea_8f30_7c7a912f93b5level0_row8\" class=\"row_heading level0 row8\" >amount</th>\n",
       "                        <td id=\"T_ee69acc8_b649_11ea_8f30_7c7a912f93b5row8_col0\" class=\"data row8 col0\" >-0.008</td>\n",
       "                        <td id=\"T_ee69acc8_b649_11ea_8f30_7c7a912f93b5row8_col1\" class=\"data row8 col1\" >0.0058</td>\n",
       "                        <td id=\"T_ee69acc8_b649_11ea_8f30_7c7a912f93b5row8_col2\" class=\"data row8 col2\" >-0.0039</td>\n",
       "                        <td id=\"T_ee69acc8_b649_11ea_8f30_7c7a912f93b5row8_col3\" class=\"data row8 col3\" >-0.013</td>\n",
       "                        <td id=\"T_ee69acc8_b649_11ea_8f30_7c7a912f93b5row8_col4\" class=\"data row8 col4\" >nan</td>\n",
       "                        <td id=\"T_ee69acc8_b649_11ea_8f30_7c7a912f93b5row8_col5\" class=\"data row8 col5\" >0.066</td>\n",
       "                        <td id=\"T_ee69acc8_b649_11ea_8f30_7c7a912f93b5row8_col6\" class=\"data row8 col6\" >nan</td>\n",
       "                        <td id=\"T_ee69acc8_b649_11ea_8f30_7c7a912f93b5row8_col7\" class=\"data row8 col7\" >-0.099</td>\n",
       "                        <td id=\"T_ee69acc8_b649_11ea_8f30_7c7a912f93b5row8_col8\" class=\"data row8 col8\" >1</td>\n",
       "                        <td id=\"T_ee69acc8_b649_11ea_8f30_7c7a912f93b5row8_col9\" class=\"data row8 col9\" >0.49</td>\n",
       "            </tr>\n",
       "            <tr>\n",
       "                        <th id=\"T_ee69acc8_b649_11ea_8f30_7c7a912f93b5level0_row9\" class=\"row_heading level0 row9\" >fraud</th>\n",
       "                        <td id=\"T_ee69acc8_b649_11ea_8f30_7c7a912f93b5row9_col0\" class=\"data row9 col0\" >-0.012</td>\n",
       "                        <td id=\"T_ee69acc8_b649_11ea_8f30_7c7a912f93b5row9_col1\" class=\"data row9 col1\" >0.0052</td>\n",
       "                        <td id=\"T_ee69acc8_b649_11ea_8f30_7c7a912f93b5row9_col2\" class=\"data row9 col2\" >-0.0043</td>\n",
       "                        <td id=\"T_ee69acc8_b649_11ea_8f30_7c7a912f93b5row9_col3\" class=\"data row9 col3\" >-0.025</td>\n",
       "                        <td id=\"T_ee69acc8_b649_11ea_8f30_7c7a912f93b5row9_col4\" class=\"data row9 col4\" >nan</td>\n",
       "                        <td id=\"T_ee69acc8_b649_11ea_8f30_7c7a912f93b5row9_col5\" class=\"data row9 col5\" >0.1</td>\n",
       "                        <td id=\"T_ee69acc8_b649_11ea_8f30_7c7a912f93b5row9_col6\" class=\"data row9 col6\" >nan</td>\n",
       "                        <td id=\"T_ee69acc8_b649_11ea_8f30_7c7a912f93b5row9_col7\" class=\"data row9 col7\" >-0.11</td>\n",
       "                        <td id=\"T_ee69acc8_b649_11ea_8f30_7c7a912f93b5row9_col8\" class=\"data row9 col8\" >0.49</td>\n",
       "                        <td id=\"T_ee69acc8_b649_11ea_8f30_7c7a912f93b5row9_col9\" class=\"data row9 col9\" >1</td>\n",
       "            </tr>\n",
       "    </tbody></table>"
      ],
      "text/plain": [
       "<pandas.io.formats.style.Styler at 0x7f82ac640390>"
      ]
     },
     "execution_count": 27,
     "metadata": {},
     "output_type": "execute_result"
    }
   ],
   "source": [
    "corr = df.corr()\n",
    "corr.style.background_gradient().set_precision(2)"
   ]
  },
  {
   "cell_type": "code",
   "execution_count": 28,
   "metadata": {},
   "outputs": [
    {
     "name": "stdout",
     "output_type": "stream",
     "text": [
      "step           -0.119428\n",
      "customer        0.018576\n",
      "age             0.454871\n",
      "gender          0.170312\n",
      "zipcodeOri      0.000000\n",
      "merchant        0.515669\n",
      "zipMerchant     0.000000\n",
      "category       -2.567394\n",
      "amount         32.365838\n",
      "fraud           8.921993\n",
      "dtype: float64\n"
     ]
    }
   ],
   "source": [
    "# DA 11. Skew\n",
    "skew = df.skew(axis = 0, skipna = True)\n",
    "print(skew)"
   ]
  },
  {
   "cell_type": "markdown",
   "metadata": {},
   "source": [
    "Find out how importance feature/variable to each other in scope whole dataset"
   ]
  },
  {
   "cell_type": "code",
   "execution_count": 29,
   "metadata": {},
   "outputs": [
    {
     "data": {
      "text/plain": [
       "DecisionTreeClassifier(class_weight=None, criterion='gini', max_depth=None,\n",
       "            max_features=None, max_leaf_nodes=None,\n",
       "            min_impurity_decrease=0.0, min_impurity_split=None,\n",
       "            min_samples_leaf=1, min_samples_split=2,\n",
       "            min_weight_fraction_leaf=0.0, presort=False, random_state=None,\n",
       "            splitter='best')"
      ]
     },
     "execution_count": 29,
     "metadata": {},
     "output_type": "execute_result"
    }
   ],
   "source": [
    "# DA 12. Feature Importance\n",
    "# a : Slicing dataset and import SkLearn model\n",
    "array = df.values\n",
    "X = array[:,0:9]\n",
    "Y = array[:,9]\n",
    "# Decision tree for feature importance selection\n",
    "from sklearn.tree import DecisionTreeClassifier\n",
    "mdl = DecisionTreeClassifier()\n",
    "mdl.fit(X, Y)"
   ]
  },
  {
   "cell_type": "code",
   "execution_count": 30,
   "metadata": {},
   "outputs": [
    {
     "data": {
      "text/plain": [
       "amount         0.610825\n",
       "merchant       0.150384\n",
       "customer       0.074264\n",
       "step           0.068655\n",
       "category       0.066822\n",
       "age            0.022609\n",
       "gender         0.006441\n",
       "zipMerchant    0.000000\n",
       "zipcodeOri     0.000000\n",
       "dtype: float64"
      ]
     },
     "execution_count": 30,
     "metadata": {},
     "output_type": "execute_result"
    }
   ],
   "source": [
    "# DA 12. Feature Importance\n",
    "# b : Get the importance value\n",
    "cols = df.columns.tolist()\n",
    "df_fimp = pd.Series(mdl.feature_importances_ , index = cols[0:len(cols)-1]).sort_values(ascending=False)\n",
    "df_fimp"
   ]
  },
  {
   "cell_type": "code",
   "execution_count": 31,
   "metadata": {},
   "outputs": [
    {
     "data": {
      "image/png": "[encoded data removed]",
      "text/plain": [
       "<Figure size 792x432 with 1 Axes>"
      ]
     },
     "metadata": {
      "needs_background": "light"
     },
     "output_type": "display_data"
    }
   ],
   "source": [
    "# DA 12. Feature Importance\n",
    "# c : Vizualization of Feature Importanced\n",
    "\n",
    "# x-coordinates of left sides of bars  \n",
    "left = [1, 2, 3, 4, 5, 6, 7, 8, 9] \n",
    "  \n",
    "# heights of bars \n",
    "height = df_fimp \n",
    "  \n",
    "# labels for bars \n",
    "tick_label = df_fimp.index\n",
    "  \n",
    "# plotting a bar chart \n",
    "pyplot.bar(left, height, tick_label = tick_label, \n",
    "        width = 0.8, color = ['cyan', 'magenta']) \n",
    "  \n",
    "# naming the x-axis \n",
    "pyplot.xlabel('Variabel') \n",
    "# naming the y axis \n",
    "pyplot.ylabel('Importances Value') \n",
    "  \n",
    "# giving a title to my graph \n",
    "pyplot.title('Feature Importance') \n",
    "  \n",
    "# function to show the plot\n",
    "fig = pyplot.gcf()\n",
    "fig.set_size_inches(11,6)\n",
    "pyplot.show()"
   ]
  },
  {
   "cell_type": "code",
   "execution_count": 32,
   "metadata": {},
   "outputs": [],
   "source": [
    "# Eksport df was encoded into new dataset, for predictive analysis in the next stage\n",
    "#df.to_csv('data_for_pred.csv', index=False)"
   ]
  },
  {
   "cell_type": "code",
   "execution_count": 33,
   "metadata": {},
   "outputs": [],
   "source": [
    "# Get in touch the final Descriptive\n",
    "is_fraud, not_fraud = df[df['fraud'] == 1], df[df['fraud'] == 0]\n",
    "frauds = len(is_fraud)\n",
    "no_frauds = len(not_fraud)\n",
    "total_obs = len(df)"
   ]
  },
  {
   "cell_type": "code",
   "execution_count": 34,
   "metadata": {},
   "outputs": [],
   "source": [
    "# For reference: https://www.kaggle.com/funkyong13/fraud-detect-visualization-to-classification\n",
    "\n",
    "num_bins = 10\n",
    "tran_amount = df['amount']\n",
    "n, bins, patches = pyplot.hist(tran_amount, num_bins, normed = False, stacked = True, facecolor= '#f26a6a', alpha=0.5)\n",
    "pyplot.close()\n",
    "n_fraud = np.zeros(num_bins)\n",
    "for i in range(num_bins):\n",
    "    for j in range(frauds):\n",
    "        if bins[i] < is_fraud['amount'].iloc[j] <= bins[i+1]:\n",
    "            n_fraud[i] += 1\n",
    "range_amount = []\n",
    "for i in range(num_bins):\n",
    "    lower_lim, higher_lim = str(int(bins[i])), str(int(bins[i+1]))\n",
    "    range_amount.append(\"$ \" + lower_lim + \" ~ \" + higher_lim )"
   ]
  },
  {
   "cell_type": "code",
   "execution_count": 35,
   "metadata": {},
   "outputs": [
    {
     "data": {
      "text/html": [
       "<div>\n",
       "<style scoped>\n",
       "    .dataframe tbody tr th:only-of-type {\n",
       "        vertical-align: middle;\n",
       "    }\n",
       "\n",
       "    .dataframe tbody tr th {\n",
       "        vertical-align: top;\n",
       "    }\n",
       "\n",
       "    .dataframe thead th {\n",
       "        text-align: right;\n",
       "    }\n",
       "</style>\n",
       "<table border=\"1\" class=\"dataframe\">\n",
       "  <thead>\n",
       "    <tr style=\"text-align: right;\">\n",
       "      <th></th>\n",
       "      <th># Total</th>\n",
       "      <th># Frauds</th>\n",
       "      <th># Safe</th>\n",
       "      <th>% Frauds</th>\n",
       "      <th>% Safe</th>\n",
       "    </tr>\n",
       "    <tr>\n",
       "      <th>Transaction Amount[$]</th>\n",
       "      <th></th>\n",
       "      <th></th>\n",
       "      <th></th>\n",
       "      <th></th>\n",
       "      <th></th>\n",
       "    </tr>\n",
       "  </thead>\n",
       "  <tbody>\n",
       "    <tr>\n",
       "      <th>$ 0 ~ 832</th>\n",
       "      <td>593762.0</td>\n",
       "      <td>6367.0</td>\n",
       "      <td>587395.0</td>\n",
       "      <td>1.07</td>\n",
       "      <td>98.93</td>\n",
       "    </tr>\n",
       "    <tr>\n",
       "      <th>$ 832 ~ 1665</th>\n",
       "      <td>483.0</td>\n",
       "      <td>441.0</td>\n",
       "      <td>42.0</td>\n",
       "      <td>91.30</td>\n",
       "      <td>8.70</td>\n",
       "    </tr>\n",
       "    <tr>\n",
       "      <th>$ 1665 ~ 2498</th>\n",
       "      <td>118.0</td>\n",
       "      <td>112.0</td>\n",
       "      <td>6.0</td>\n",
       "      <td>94.92</td>\n",
       "      <td>5.08</td>\n",
       "    </tr>\n",
       "    <tr>\n",
       "      <th>$ 2498 ~ 3331</th>\n",
       "      <td>87.0</td>\n",
       "      <td>87.0</td>\n",
       "      <td>0.0</td>\n",
       "      <td>100.00</td>\n",
       "      <td>0.00</td>\n",
       "    </tr>\n",
       "    <tr>\n",
       "      <th>$ 3331 ~ 4164</th>\n",
       "      <td>72.0</td>\n",
       "      <td>72.0</td>\n",
       "      <td>0.0</td>\n",
       "      <td>100.00</td>\n",
       "      <td>0.00</td>\n",
       "    </tr>\n",
       "    <tr>\n",
       "      <th>$ 4164 ~ 4997</th>\n",
       "      <td>62.0</td>\n",
       "      <td>62.0</td>\n",
       "      <td>0.0</td>\n",
       "      <td>100.00</td>\n",
       "      <td>0.00</td>\n",
       "    </tr>\n",
       "    <tr>\n",
       "      <th>$ 4997 ~ 5830</th>\n",
       "      <td>34.0</td>\n",
       "      <td>34.0</td>\n",
       "      <td>0.0</td>\n",
       "      <td>100.00</td>\n",
       "      <td>0.00</td>\n",
       "    </tr>\n",
       "    <tr>\n",
       "      <th>$ 5830 ~ 6663</th>\n",
       "      <td>16.0</td>\n",
       "      <td>16.0</td>\n",
       "      <td>0.0</td>\n",
       "      <td>100.00</td>\n",
       "      <td>0.00</td>\n",
       "    </tr>\n",
       "    <tr>\n",
       "      <th>$ 6663 ~ 7496</th>\n",
       "      <td>6.0</td>\n",
       "      <td>6.0</td>\n",
       "      <td>0.0</td>\n",
       "      <td>100.00</td>\n",
       "      <td>0.00</td>\n",
       "    </tr>\n",
       "    <tr>\n",
       "      <th>$ 7496 ~ 8329</th>\n",
       "      <td>3.0</td>\n",
       "      <td>3.0</td>\n",
       "      <td>0.0</td>\n",
       "      <td>100.00</td>\n",
       "      <td>0.00</td>\n",
       "    </tr>\n",
       "  </tbody>\n",
       "</table>\n",
       "</div>"
      ],
      "text/plain": [
       "                        # Total  # Frauds    # Safe  % Frauds  % Safe\n",
       "Transaction Amount[$]                                                \n",
       "$ 0 ~ 832              593762.0    6367.0  587395.0      1.07   98.93\n",
       "$ 832 ~ 1665              483.0     441.0      42.0     91.30    8.70\n",
       "$ 1665 ~ 2498             118.0     112.0       6.0     94.92    5.08\n",
       "$ 2498 ~ 3331              87.0      87.0       0.0    100.00    0.00\n",
       "$ 3331 ~ 4164              72.0      72.0       0.0    100.00    0.00\n",
       "$ 4164 ~ 4997              62.0      62.0       0.0    100.00    0.00\n",
       "$ 4997 ~ 5830              34.0      34.0       0.0    100.00    0.00\n",
       "$ 5830 ~ 6663              16.0      16.0       0.0    100.00    0.00\n",
       "$ 6663 ~ 7496               6.0       6.0       0.0    100.00    0.00\n",
       "$ 7496 ~ 8329               3.0       3.0       0.0    100.00    0.00"
      ]
     },
     "execution_count": 35,
     "metadata": {},
     "output_type": "execute_result"
    }
   ],
   "source": [
    "df_hist = pd.DataFrame(index = range_amount)\n",
    "df_hist.index.name = 'Transaction Amount[$]'\n",
    "df_hist['# Total'] = n\n",
    "df_hist['# Frauds'] = n_fraud\n",
    "df_hist['# Safe'] = df_hist['# Total'] - df_hist['# Frauds']\n",
    "df_hist['% Frauds'] = (df_hist['# Frauds'] / df_hist['# Total'] * 100).round(2)\n",
    "df_hist['% Safe'] = (df_hist['# Safe'] / df_hist['# Total'] * 100).round(2)\n",
    "df_hist"
   ]
  },
  {
   "cell_type": "code",
   "execution_count": 36,
   "metadata": {},
   "outputs": [
    {
     "name": "stdout",
     "output_type": "stream",
     "text": [
      "Percentage of frauds:  1.2108105199254007\n",
      "Percentage of no frauds:  98.7891894800746\n"
     ]
    }
   ],
   "source": [
    "print(\"Percentage of frauds: \", frauds/total_obs*100)\n",
    "print(\"Percentage of no frauds: \", no_frauds/total_obs*100)"
   ]
  },
  {
   "cell_type": "code",
   "execution_count": null,
   "metadata": {},
   "outputs": [],
   "source": []
  }
 ],
 "metadata": {
  "kernelspec": {
   "display_name": "Python 3",
   "language": "python",
   "name": "python3"
  },
  "language_info": {
   "codemirror_mode": {
    "name": "ipython",
    "version": 3
   },
   "file_extension": ".py",
   "mimetype": "text/x-python",
   "name": "python",
   "nbconvert_exporter": "python",
   "pygments_lexer": "ipython3",
   "version": "3.5.2"
  }
 },
 "nbformat": 4,
 "nbformat_minor": 2
}
